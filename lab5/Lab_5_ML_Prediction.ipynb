{
 "cells": [
  {
   "cell_type": "markdown",
   "metadata": {
    "collapsed": true
   },
   "source": [
    "## Objective: Learn how to predict apartments' renting price in Champaign, IL"
   ]
  },
  {
   "cell_type": "markdown",
   "metadata": {
    "collapsed": true
   },
   "source": [
    "Remember to shut down your server when you are done by clicking Control Panel -> Shut Down Server\n",
    "\n",
    "### Step 1: Data Preprocessing\n",
    "We need to preprocess data before we start running a machine learning algorithm. The reasons are that some observations are invalid (missing rent number) or some columns do not provide enough information (like image_urls)."
   ]
  },
  {
   "cell_type": "markdown",
   "metadata": {},
   "source": [
    "First of all, we need to load a raw csv file"
   ]
  },
  {
   "cell_type": "code",
   "execution_count": 4,
   "metadata": {},
   "outputs": [
    {
     "data": {
      "text/html": [
       "<dl class=dl-horizontal>\n",
       "\t<dt>rgdal</dt>\n",
       "\t\t<dd>TRUE</dd>\n",
       "\t<dt>sp</dt>\n",
       "\t\t<dd>TRUE</dd>\n",
       "\t<dt>xgboost</dt>\n",
       "\t\t<dd>TRUE</dd>\n",
       "</dl>\n"
      ],
      "text/latex": [
       "\\begin{description*}\n",
       "\\item[rgdal] TRUE\n",
       "\\item[sp] TRUE\n",
       "\\item[xgboost] TRUE\n",
       "\\end{description*}\n"
      ],
      "text/markdown": [
       "rgdal\n",
       ":   TRUEsp\n",
       ":   TRUExgboost\n",
       ":   TRUE\n",
       "\n"
      ],
      "text/plain": [
       "  rgdal      sp xgboost \n",
       "   TRUE    TRUE    TRUE "
      ]
     },
     "metadata": {},
     "output_type": "display_data"
    }
   ],
   "source": [
    "setwd('/home/ubuntu/labs/Lab_5_ML_Prediction')\n",
    "ipak <- function(pkg){\n",
    "new.pkg <- pkg[!(pkg %in% installed.packages()[, \"Package\"])]\n",
    "if (length(new.pkg)) \n",
    "    install.packages(new.pkg, dependencies = TRUE)\n",
    "sapply(pkg, require, character.only = TRUE)\n",
    "}\n",
    "\n",
    "# usage\n",
    "packages <- c(\"rgdal\", \"sp\", \"xgboost\")\n",
    "ipak(packages)"
   ]
  },
  {
   "cell_type": "code",
   "execution_count": 5,
   "metadata": {},
   "outputs": [],
   "source": [
    "# Load the data from /home/zhang303/Apartments\n",
    "# Here, we read the data crawled from apartments on 2017-06-13 (rents-2017-06-13.csv)\n",
    "# Raw is a dataframe that consists of 305278 observations.\n",
    "raw <- read.csv(\"rents_2017-06-13.csv\")"
   ]
  },
  {
   "cell_type": "markdown",
   "metadata": {},
   "source": [
    "Now we need to find every apartment in Champaign, IL. To do that, we can do some basic queries"
   ]
  },
  {
   "cell_type": "code",
   "execution_count": 6,
   "metadata": {},
   "outputs": [],
   "source": [
    "# Grab all the data that meets the criteria\n",
    "data = raw[raw$state == \"IL\" & raw$city == \"Champaign\",]\n",
    "states = \"IL\""
   ]
  },
  {
   "cell_type": "code",
   "execution_count": 7,
   "metadata": {},
   "outputs": [
    {
     "data": {
      "text/html": [
       "<table>\n",
       "<thead><tr><th></th><th scope=col>address</th><th scope=col>city</th><th scope=col>state</th><th scope=col>zipcode</th><th scope=col>rent</th><th scope=col>beds</th><th scope=col>baths</th><th scope=col>sqft</th><th scope=col>image_urls</th><th scope=col>description</th><th scope=col>⋯</th><th scope=col>url</th><th scope=col>score</th><th scope=col>source</th><th scope=col>contact</th><th scope=col>email</th><th scope=col>lat</th><th scope=col>lon</th><th scope=col>apt_number</th><th scope=col>last_update</th><th scope=col>Date.Added</th></tr></thead>\n",
       "<tbody>\n",
       "\t<tr><th scope=row>144497</th><td>1010 S 1st St, Champaign, IL 61820, USA                                                                                                                                                                                                                                                             </td><td>Champaign                                                                                                                                                                                                                                                                                           </td><td>IL                                                                                                                                                                                                                                                                                                  </td><td>61820                                                                                                                                                                                                                                                                                               </td><td>$624-$645                                                                                                                                                                                                                                                                                           </td><td>1                                                                                                                                                                                                                                                                                                   </td><td>1                                                                                                                                                                                                                                                                                                   </td><td>-                                                                                                                                                                                                                                                                                                   </td><td>http://www.placeofmine.com/images/no-image.gif                                                                                                                                                                                                                                                      </td><td>Short term lease starting at $624.00 ending on August 5th, 2017. Spacious garden level 1 bedroom/ 1 bath located in the heart of campus. Rental amount includes water, sewer, trash and recycling. Tenant responsible for electric, gas (stove) and internet/cable. Call us to schedule a tour today</td><td>⋯                                                                                                                                                                                                                                                                                                   </td><td>http://kennedywilson.linkedupradio.com/properties?property_id=14069&amp;#9;&amp;#9;&amp;#9;&amp;#9;&amp;#9;&amp;#9;&amp;#9;&amp;#9;&amp;#9;                                                                                                                                                         </td><td>46.3411                                                                                                                                                                                                                                                                                             </td><td>cu-living.com                                                                                                                                                                                                                                                                                       </td><td>217-384-5555                                                                                                                                                                                                                                                                                        </td><td>-                                                                                                                                                                                                                                                                                                   </td><td>40.10597                                                                                                                                                                                                                                                                                            </td><td>-88.23828                                                                                                                                                                                                                                                                                           </td><td>-                                                                                                                                                                                                                                                                                                   </td><td>2017-03-31 15:42:15                                                                                                                                                                                                                                                                                 </td><td>06-13-2017                                                                                                                                                                                                                                                                                          </td></tr>\n",
       "</tbody>\n",
       "</table>\n"
      ],
      "text/latex": [
       "\\begin{tabular}{r|llllllllllllllllllllll}\n",
       "  & address & city & state & zipcode & rent & beds & baths & sqft & image\\_urls & description & ⋯ & url & score & source & contact & email & lat & lon & apt\\_number & last\\_update & Date.Added\\\\\n",
       "\\hline\n",
       "\t144497 & 1010 S 1st St, Champaign, IL 61820, USA                                                                                                                                                                                                                                                                & Champaign                                                                                                                                                                                                                                                                                              & IL                                                                                                                                                                                                                                                                                                     & 61820                                                                                                                                                                                                                                                                                                  & \\$624-\\$645                                                                                                                                                                                                                                                                                          & 1                                                                                                                                                                                                                                                                                                      & 1                                                                                                                                                                                                                                                                                                      & -                                                                                                                                                                                                                                                                                                      & http://www.placeofmine.com/images/no-image.gif                                                                                                                                                                                                                                                         & Short term lease starting at \\$624.00 ending on August 5th, 2017. Spacious garden level 1 bedroom/ 1 bath located in the heart of campus. Rental amount includes water, sewer, trash and recycling. Tenant responsible for electric, gas (stove) and internet/cable. Call us to schedule a tour today & ⋯                                                                                                                                                                                                                                                                                                      & http://kennedywilson.linkedupradio.com/properties?property\\_id=14069\\&\\#9;\\&\\#9;\\&\\#9;\\&\\#9;\\&\\#9;\\&\\#9;\\&\\#9;\\&\\#9;\\&\\#9;                                                                                                                                                          & 46.3411                                                                                                                                                                                                                                                                                                & cu-living.com                                                                                                                                                                                                                                                                                          & 217-384-5555                                                                                                                                                                                                                                                                                           & -                                                                                                                                                                                                                                                                                                      & 40.10597                                                                                                                                                                                                                                                                                               & -88.23828                                                                                                                                                                                                                                                                                              & -                                                                                                                                                                                                                                                                                                      & 2017-03-31 15:42:15                                                                                                                                                                                                                                                                                    & 06-13-2017                                                                                                                                                                                                                                                                                            \\\\\n",
       "\\end{tabular}\n"
      ],
      "text/markdown": [
       "\n",
       "| <!--/--> | address | city | state | zipcode | rent | beds | baths | sqft | image_urls | description | ⋯ | url | score | source | contact | email | lat | lon | apt_number | last_update | Date.Added | \n",
       "|---|\n",
       "| 144497 | 1010 S 1st St, Champaign, IL 61820, USA                                                                                                                                                                                                                                                              | Champaign                                                                                                                                                                                                                                                                                            | IL                                                                                                                                                                                                                                                                                                   | 61820                                                                                                                                                                                                                                                                                                | $624-$645                                                                                                                                                                                                                                                                                            | 1                                                                                                                                                                                                                                                                                                    | 1                                                                                                                                                                                                                                                                                                    | -                                                                                                                                                                                                                                                                                                    | http://www.placeofmine.com/images/no-image.gif                                                                                                                                                                                                                                                       | Short term lease starting at $624.00 ending on August 5th, 2017. Spacious garden level 1 bedroom/ 1 bath located in the heart of campus. Rental amount includes water, sewer, trash and recycling. Tenant responsible for electric, gas (stove) and internet/cable. Call us to schedule a tour today | ⋯                                                                                                                                                                                                                                                                                                    | http://kennedywilson.linkedupradio.com/properties?property_id=14069&#9;&#9;&#9;&#9;&#9;&#9;&#9;&#9;&#9;                                                                                                                                                                                              | 46.3411                                                                                                                                                                                                                                                                                              | cu-living.com                                                                                                                                                                                                                                                                                        | 217-384-5555                                                                                                                                                                                                                                                                                         | -                                                                                                                                                                                                                                                                                                    | 40.10597                                                                                                                                                                                                                                                                                             | -88.23828                                                                                                                                                                                                                                                                                            | -                                                                                                                                                                                                                                                                                                    | 2017-03-31 15:42:15                                                                                                                                                                                                                                                                                  | 06-13-2017                                                                                                                                                                                                                                                                                           | \n",
       "\n",
       "\n"
      ],
      "text/plain": [
       "       address                                 city      state zipcode\n",
       "144497 1010 S 1st St, Champaign, IL 61820, USA Champaign IL    61820  \n",
       "       rent      beds baths sqft image_urls                                    \n",
       "144497 $624-$645 1    1     -    http://www.placeofmine.com/images/no-image.gif\n",
       "       description                                                                                                                                                                                                                                                                                         \n",
       "144497 Short term lease starting at $624.00 ending on August 5th, 2017. Spacious garden level 1 bedroom/ 1 bath located in the heart of campus. Rental amount includes water, sewer, trash and recycling. Tenant responsible for electric, gas (stove) and internet/cable. Call us to schedule a tour today\n",
       "       ⋯\n",
       "144497 ⋯\n",
       "       url                                                                                                    \n",
       "144497 http://kennedywilson.linkedupradio.com/properties?property_id=14069&#9;&#9;&#9;&#9;&#9;&#9;&#9;&#9;&#9;\n",
       "       score   source        contact      email lat      lon       apt_number\n",
       "144497 46.3411 cu-living.com 217-384-5555 -     40.10597 -88.23828 -         \n",
       "       last_update         Date.Added\n",
       "144497 2017-03-31 15:42:15 06-13-2017"
      ]
     },
     "metadata": {},
     "output_type": "display_data"
    }
   ],
   "source": [
    "data[4,]"
   ]
  },
  {
   "cell_type": "code",
   "execution_count": 8,
   "metadata": {},
   "outputs": [
    {
     "data": {
      "text/html": [
       "150"
      ],
      "text/latex": [
       "150"
      ],
      "text/markdown": [
       "150"
      ],
      "text/plain": [
       "[1] 150"
      ]
     },
     "metadata": {},
     "output_type": "display_data"
    },
    {
     "data": {
      "text/html": [
       "22"
      ],
      "text/latex": [
       "22"
      ],
      "text/markdown": [
       "22"
      ],
      "text/plain": [
       "[1] 22"
      ]
     },
     "metadata": {},
     "output_type": "display_data"
    }
   ],
   "source": [
    "nrow(data)\n",
    "ncol(data)"
   ]
  },
  {
   "cell_type": "markdown",
   "metadata": {},
   "source": [
    "Champaign should be a dataframe that contains 150 observations with 22 variables. Now we need to integrate the raw data with the census block data "
   ]
  },
  {
   "cell_type": "code",
   "execution_count": 9,
   "metadata": {},
   "outputs": [],
   "source": [
    "# A function that translates a state into a code.\n",
    "# For example, codeForState(IL) = 17\n",
    "codeForState <- function (state_name) {\n",
    "  if (!exists('stateCodeMap')) {\n",
    "    stateCodeMap = read.csv('state_code_map.csv')\n",
    "  }\n",
    "  code = stateCodeMap[which(stateCodeMap$state==state_name),\"code\"]\n",
    "  if (nchar(code) < 2) {\n",
    "    code = paste0(\"0\",code)\n",
    "  }\n",
    "  return(code)\n",
    "}"
   ]
  },
  {
   "cell_type": "code",
   "execution_count": 10,
   "metadata": {},
   "outputs": [
    {
     "data": {
      "text/html": [
       "17"
      ],
      "text/latex": [
       "17"
      ],
      "text/markdown": [
       "17"
      ],
      "text/plain": [
       "[1] 17"
      ]
     },
     "metadata": {},
     "output_type": "display_data"
    }
   ],
   "source": [
    "# example\n",
    "codeForState(\"IL\")"
   ]
  },
  {
   "cell_type": "code",
   "execution_count": 11,
   "metadata": {},
   "outputs": [],
   "source": [
    "# get POP data for Illinois\n",
    "getPOPDataForState <- function (data,state_name) {\n",
    "  # Get layer name & path\n",
    "  layer_name = paste0(\"tl_2016_\",codeForState(state_name),\"_tabblock10\")\n",
    "  shape_object_path = paste0(codeForState(state_name),\"_shp.rds\")\n",
    "  \n",
    "  if (!file.exists(shape_object_path)) {\n",
    "    return(NA)\n",
    "  }\n",
    "  \n",
    "  # Grab just the rows for the state we're processing\n",
    "  state_subset = subset(data,state==state_name)\n",
    "  \n",
    "  # If there are no rows for this state, do nothing\n",
    "  if(dim(state_subset)[1]==0) {\n",
    "    return(NA)\n",
    "  } else {\n",
    "    points_raw = state_subset\n",
    "    points_raw$lat = as.numeric(points_raw$lat)\n",
    "    points_raw$lon = as.numeric(points_raw$lon)\n",
    "      \n",
    "    source(\"PointsOverPolygons.R\",local = TRUE)\n",
    "    if (!exists(\"aug_points\")) {\n",
    "      stop(\"PointsOverPolygons.R failed to create membership data.\")\n",
    "    }\n",
    "  }\n",
    "  return(aug_points)\n",
    "}\n",
    "\n",
    "# usage in the next cell\n",
    "# example output in the 3 cells later"
   ]
  },
  {
   "cell_type": "code",
   "execution_count": 12,
   "metadata": {},
   "outputs": [
    {
     "name": "stdout",
     "output_type": "stream",
     "text": [
      "[1] \"Working on IL...\"\n"
     ]
    },
    {
     "name": "stderr",
     "output_type": "stream",
     "text": [
      "Loading required package: readxl\n",
      "Loading required package: data.table\n",
      "Loading required package: rgeos\n",
      "rgeos version: 0.3-28, (SVN revision 572)\n",
      " GEOS runtime version: 3.5.1-CAPI-1.9.1 r4246 \n",
      " Linking to sp version: 1.3-1 \n",
      " Polygon checking: TRUE \n",
      "\n",
      "Loading required package: tools\n"
     ]
    },
    {
     "name": "stdout",
     "output_type": "stream",
     "text": [
      "   user  system elapsed \n",
      " 51.136   0.820  51.955 \n"
     ]
    }
   ],
   "source": [
    "# In a real project we run every state in the U.S., but here we only run Illinois.\n",
    "# Don't worry about the warning messages\n",
    "aug_data_by_state = lapply(\"IL\",function(state_name) {\n",
    "  print(paste0(\"Working on \",state_name,\"...\"))\n",
    "    \n",
    "  if (state_name == \"\") {\n",
    "    return(NA)\n",
    "  }\n",
    "    \n",
    "  aug_data = getPOPDataForState(data,state_name)\n",
    "    \n",
    "  return(aug_data)\n",
    "})"
   ]
  },
  {
   "cell_type": "code",
   "execution_count": 13,
   "metadata": {},
   "outputs": [],
   "source": [
    "# Remove any states that had no rows in them.\n",
    "aug_data_by_state_no_NAs = aug_data_by_state[which(!is.na(aug_data_by_state))]\n",
    "aug_data = Reduce(rbind,aug_data_by_state_no_NAs,aug_data_by_state_no_NAs[[1]][c(),])"
   ]
  },
  {
   "cell_type": "code",
   "execution_count": 14,
   "metadata": {},
   "outputs": [
    {
     "data": {
      "text/html": [
       "<table>\n",
       "<thead><tr><th></th><th scope=col>address</th><th scope=col>city</th><th scope=col>state</th><th scope=col>zipcode</th><th scope=col>rent</th><th scope=col>beds</th><th scope=col>baths</th><th scope=col>sqft</th><th scope=col>image_urls</th><th scope=col>description</th><th scope=col>⋯</th><th scope=col>MTFCC10</th><th scope=col>UR10</th><th scope=col>UACE10</th><th scope=col>UATYPE</th><th scope=col>FUNCSTAT10</th><th scope=col>ALAND10</th><th scope=col>AWATER10</th><th scope=col>INTPTLAT10</th><th scope=col>INTPTLON10</th><th scope=col>addedID</th></tr></thead>\n",
       "<tbody>\n",
       "\t<tr><th scope=row>144497</th><td>1010 S 1st St, Champaign, IL 61820, USA                                                                                                                                                                                                                                                             </td><td>Champaign                                                                                                                                                                                                                                                                                           </td><td>IL                                                                                                                                                                                                                                                                                                  </td><td>61820                                                                                                                                                                                                                                                                                               </td><td>$624-$645                                                                                                                                                                                                                                                                                           </td><td>1                                                                                                                                                                                                                                                                                                   </td><td>1                                                                                                                                                                                                                                                                                                   </td><td>-                                                                                                                                                                                                                                                                                                   </td><td>http://www.placeofmine.com/images/no-image.gif                                                                                                                                                                                                                                                      </td><td>Short term lease starting at $624.00 ending on August 5th, 2017. Spacious garden level 1 bedroom/ 1 bath located in the heart of campus. Rental amount includes water, sewer, trash and recycling. Tenant responsible for electric, gas (stove) and internet/cable. Call us to schedule a tour today</td><td>⋯                                                                                                                                                                                                                                                                                                   </td><td>G5040                                                                                                                                                                                                                                                                                               </td><td>U                                                                                                                                                                                                                                                                                                   </td><td>15211                                                                                                                                                                                                                                                                                               </td><td>U                                                                                                                                                                                                                                                                                                   </td><td>S                                                                                                                                                                                                                                                                                                   </td><td>17924                                                                                                                                                                                                                                                                                               </td><td>0                                                                                                                                                                                                                                                                                                   </td><td>+40.1059648                                                                                                                                                                                                                                                                                         </td><td>-088.2378272                                                                                                                                                                                                                                                                                        </td><td>43213                                                                                                                                                                                                                                                                                               </td></tr>\n",
       "</tbody>\n",
       "</table>\n"
      ],
      "text/latex": [
       "\\begin{tabular}{r|llllllllllllllllllllllllllllllllllllll}\n",
       "  & address & city & state & zipcode & rent & beds & baths & sqft & image\\_urls & description & ⋯ & MTFCC10 & UR10 & UACE10 & UATYPE & FUNCSTAT10 & ALAND10 & AWATER10 & INTPTLAT10 & INTPTLON10 & addedID\\\\\n",
       "\\hline\n",
       "\t144497 & 1010 S 1st St, Champaign, IL 61820, USA                                                                                                                                                                                                                                                                & Champaign                                                                                                                                                                                                                                                                                              & IL                                                                                                                                                                                                                                                                                                     & 61820                                                                                                                                                                                                                                                                                                  & \\$624-\\$645                                                                                                                                                                                                                                                                                          & 1                                                                                                                                                                                                                                                                                                      & 1                                                                                                                                                                                                                                                                                                      & -                                                                                                                                                                                                                                                                                                      & http://www.placeofmine.com/images/no-image.gif                                                                                                                                                                                                                                                         & Short term lease starting at \\$624.00 ending on August 5th, 2017. Spacious garden level 1 bedroom/ 1 bath located in the heart of campus. Rental amount includes water, sewer, trash and recycling. Tenant responsible for electric, gas (stove) and internet/cable. Call us to schedule a tour today & ⋯                                                                                                                                                                                                                                                                                                      & G5040                                                                                                                                                                                                                                                                                                  & U                                                                                                                                                                                                                                                                                                      & 15211                                                                                                                                                                                                                                                                                                  & U                                                                                                                                                                                                                                                                                                      & S                                                                                                                                                                                                                                                                                                      & 17924                                                                                                                                                                                                                                                                                                  & 0                                                                                                                                                                                                                                                                                                      & +40.1059648                                                                                                                                                                                                                                                                                            & -088.2378272                                                                                                                                                                                                                                                                                           & 43213                                                                                                                                                                                                                                                                                                 \\\\\n",
       "\\end{tabular}\n"
      ],
      "text/markdown": [
       "\n",
       "| <!--/--> | address | city | state | zipcode | rent | beds | baths | sqft | image_urls | description | ⋯ | MTFCC10 | UR10 | UACE10 | UATYPE | FUNCSTAT10 | ALAND10 | AWATER10 | INTPTLAT10 | INTPTLON10 | addedID | \n",
       "|---|\n",
       "| 144497 | 1010 S 1st St, Champaign, IL 61820, USA                                                                                                                                                                                                                                                              | Champaign                                                                                                                                                                                                                                                                                            | IL                                                                                                                                                                                                                                                                                                   | 61820                                                                                                                                                                                                                                                                                                | $624-$645                                                                                                                                                                                                                                                                                            | 1                                                                                                                                                                                                                                                                                                    | 1                                                                                                                                                                                                                                                                                                    | -                                                                                                                                                                                                                                                                                                    | http://www.placeofmine.com/images/no-image.gif                                                                                                                                                                                                                                                       | Short term lease starting at $624.00 ending on August 5th, 2017. Spacious garden level 1 bedroom/ 1 bath located in the heart of campus. Rental amount includes water, sewer, trash and recycling. Tenant responsible for electric, gas (stove) and internet/cable. Call us to schedule a tour today | ⋯                                                                                                                                                                                                                                                                                                    | G5040                                                                                                                                                                                                                                                                                                | U                                                                                                                                                                                                                                                                                                    | 15211                                                                                                                                                                                                                                                                                                | U                                                                                                                                                                                                                                                                                                    | S                                                                                                                                                                                                                                                                                                    | 17924                                                                                                                                                                                                                                                                                                | 0                                                                                                                                                                                                                                                                                                    | +40.1059648                                                                                                                                                                                                                                                                                          | -088.2378272                                                                                                                                                                                                                                                                                         | 43213                                                                                                                                                                                                                                                                                                | \n",
       "\n",
       "\n"
      ],
      "text/plain": [
       "       address                                 city      state zipcode\n",
       "144497 1010 S 1st St, Champaign, IL 61820, USA Champaign IL    61820  \n",
       "       rent      beds baths sqft image_urls                                    \n",
       "144497 $624-$645 1    1     -    http://www.placeofmine.com/images/no-image.gif\n",
       "       description                                                                                                                                                                                                                                                                                         \n",
       "144497 Short term lease starting at $624.00 ending on August 5th, 2017. Spacious garden level 1 bedroom/ 1 bath located in the heart of campus. Rental amount includes water, sewer, trash and recycling. Tenant responsible for electric, gas (stove) and internet/cable. Call us to schedule a tour today\n",
       "       ⋯ MTFCC10 UR10 UACE10 UATYPE FUNCSTAT10 ALAND10 AWATER10 INTPTLAT10 \n",
       "144497 ⋯ G5040   U    15211  U      S          17924   0        +40.1059648\n",
       "       INTPTLON10   addedID\n",
       "144497 -088.2378272 43213  "
      ]
     },
     "metadata": {},
     "output_type": "display_data"
    }
   ],
   "source": [
    "aug_data[4,]"
   ]
  },
  {
   "cell_type": "markdown",
   "metadata": {},
   "source": [
    "After integration, we can remove columns that do not have enough information such as image_urls."
   ]
  },
  {
   "cell_type": "code",
   "execution_count": 17,
   "metadata": {},
   "outputs": [
    {
     "name": "stderr",
     "output_type": "stream",
     "text": [
      "Warning message in cleanChunk(aug_data):\n",
      "“NAs introduced by coercion”"
     ]
    },
    {
     "name": "stdout",
     "output_type": "stream",
     "text": [
      "[1] \"finished\"\n"
     ]
    }
   ],
   "source": [
    "# a function that removes useless variables and categorizes by square ft\n",
    "cleanChunk = function (chunk_old) {\n",
    "\n",
    "  chunk=data.frame(matrix(nrow=nrow(chunk_old),ncol=0))\n",
    "    \n",
    "  #chunk$id <- chunk_old$csv_id\n",
    "  chunk$Lat_Num <- as.numeric(chunk_old$lat)\n",
    "  chunk$Lon_Num <- as.numeric(chunk_old$lon)\n",
    "  chunk$Sqft_Num <- as.numeric(chunk_old$sqft)\n",
    "  chunk$Score_Num <- as.numeric(chunk_old$score)\n",
    "  chunk_old$rent1 <- sub(\"$\",'',as.character(chunk_old$rent),fixed=TRUE)\n",
    "  chunk$Rent_Num <- as.numeric(sub(\",\",'',as.character(chunk_old$rent1),fixed=TRUE))\n",
    "  chunk$Zip_Fac <- as.factor(chunk_old$zipcode)\n",
    "  chunk$Beds_Num <- as.numeric(chunk_old$beds)\n",
    "  chunk$Baths_Num <- as.numeric(chunk_old$baths)\n",
    "  chunk$Beds_Fac <- as.factor(chunk_old$beds)\n",
    "  chunk$Baths_Fac <- as.factor(chunk_old$baths)\n",
    "  chunk$DateAdded_Str <- as.character(chunk_old$Date.Added)\n",
    "\n",
    "  chunk$State_Fac <- as.factor(chunk_old$STATEFP10)\n",
    "  chunk$Tract_Fac <- as.factor(chunk_old$TRACTCE10)\n",
    "  chunk$Block_Fac <- as.factor(chunk_old$BLOCKCE10)\n",
    "  chunk$Date_Fac <- as.factor(chunk_old$Date.Added)\n",
    "\n",
    "  chunk$Sqft0500 <- as.factor(chunk$Sqft_Num<500)\n",
    "  chunk$Sqft500600 <- as.factor(chunk$Sqft_Num>=500 & chunk$Sqft_Num<600)\n",
    "  chunk$Sqft600700 <- as.factor(chunk$Sqft_Num>=600 & chunk$Sqft_Num<700)\n",
    "  chunk$Sqft700800 <- as.factor(chunk$Sqft_Num>=700 & chunk$Sqft_Num<800)\n",
    "  chunk$Sqft800900 <- as.factor(chunk$Sqft_Num>=800 & chunk$Sqft_Num<900)\n",
    "  chunk$Sqft9001000 <- as.factor(chunk$Sqft_Num>=900 & chunk$Sqft_Num<1000)\n",
    "  chunk$Sqft10001100 <- as.factor(chunk$Sqft_Num>=1000 & chunk$Sqft_Num<1100)\n",
    "  chunk$Sqft11001200 <- as.factor(chunk$Sqft_Num>=1100 & chunk$Sqft_Num<1200)\n",
    "  chunk$Sqft12001300 <- as.factor(chunk$Sqft_Num>=1200 & chunk$Sqft_Num<1300)\n",
    "  chunk$Sqft13001400 <- as.factor(chunk$Sqft_Num>=1300 & chunk$Sqft_Num<1400)\n",
    "  chunk$Sqft14001500 <- as.factor(chunk$Sqft_Num>=1400 & chunk$Sqft_Num<1500)\n",
    "  chunk$Sqft15001600 <- as.factor(chunk$Sqft_Num>=1500 & chunk$Sqft_Num<1600)\n",
    "  chunk$Sqft16001700 <- as.factor(chunk$Sqft_Num>=1600 & chunk$Sqft_Num<1700)\n",
    "  chunk$Sqft17001800 <- as.factor(chunk$Sqft_Num>=1700 & chunk$Sqft_Num<1800)\n",
    "  chunk$Sqft18001900 <- as.factor(chunk$Sqft_Num>=1800 & chunk$Sqft_Num<1900)\n",
    "  chunk$Sqft19002000 <- as.factor(chunk$Sqft_Num>=1900 & chunk$Sqft_Num<2000)\n",
    "  chunk$Sqft2000 <- as.factor(chunk$Sqft_Num>=2000)\n",
    "  \n",
    "  chunk$Sqft20002100 <- as.factor(chunk$Sqft_Num>=2000 & chunk$Sqft_Num<2100)\n",
    "  chunk$Sqft21002200 <- as.factor(chunk$Sqft_Num>=2100 & chunk$Sqft_Num<2200)\n",
    "  chunk$Sqft22002300 <- as.factor(chunk$Sqft_Num>=2200 & chunk$Sqft_Num<2300)\n",
    "  chunk$Sqft23002400 <- as.factor(chunk$Sqft_Num>=2300 & chunk$Sqft_Num<2400)\n",
    "  chunk$Sqft24002500 <- as.factor(chunk$Sqft_Num>=2400 & chunk$Sqft_Num<2500)\n",
    "  chunk$Sqft25002600 <- as.factor(chunk$Sqft_Num>=2500 & chunk$Sqft_Num<2600)\n",
    "  chunk$Sqft26002700 <- as.factor(chunk$Sqft_Num>=2600 & chunk$Sqft_Num<2700)\n",
    "  chunk$Sqft27002800 <- as.factor(chunk$Sqft_Num>=2700 & chunk$Sqft_Num<2800)\n",
    "  chunk$Sqft28002900 <- as.factor(chunk$Sqft_Num>=2800 & chunk$Sqft_Num<2900)\n",
    "  chunk$Sqft29003000 <- as.factor(chunk$Sqft_Num>=2900 & chunk$Sqft_Num<3000)\n",
    "  chunk$Sqft3000 <- as.factor(chunk$Sqft_Num>=3000)\n",
    "  chunk$Sqft2000 <- as.factor(chunk$Sqft_Num>=2000)\n",
    "  chunk$Sqft01000 <- as.factor(chunk$Sqft_Num<1000)\n",
    "  \n",
    "  chunk$Location_GeoJSON = data.frame(matrix(NA,nrow=nrow(chunk_old),ncol=2,dimnames = list(c(),c(\"type\",\"coordinates\"))))\n",
    "  chunk$Location_GeoJSON$coordinates = as.list(data.frame(apply(chunk_old[c(\"lat\",\"lon\")],1,function(f){\n",
    "    return(c(as.numeric(f[\"lon\"]),as.numeric(f[\"lat\"])))\n",
    "  })))\n",
    "    \n",
    "  chunk$Location_GeoJSON$type = \"Point\"\n",
    "  \n",
    "  chunk <- subset(chunk, Rent_Num!=\"NA\")\n",
    "\n",
    "  print(\"finished\")\n",
    "  return(subset(chunk, Rent_Num <= 5035))\n",
    "}\n",
    "\n",
    "clean <- cleanChunk(aug_data)\n",
    "# It's fine if you see the folling warning message\n",
    "# Warning message in cleanChunk(aug_data):\n",
    "# “NAs introduced by coercion”"
   ]
  },
  {
   "cell_type": "markdown",
   "metadata": {},
   "source": [
    "### Step 2: Modeling\n",
    "After processing the data, we split the whole dataset into train/test set so we can run a machine learning algorithm on it."
   ]
  },
  {
   "cell_type": "code",
   "execution_count": 18,
   "metadata": {},
   "outputs": [],
   "source": [
    "## Setting 80% as train and 20% as test\n",
    "sample_size <- floor(0.8 * nrow(clean))\n",
    "\n",
    "## Set the seed to make your partition reproductible\n",
    "set.seed(123)\n",
    "\n",
    "train_ind <- sample(seq_len(nrow(clean)), size = sample_size)"
   ]
  },
  {
   "cell_type": "code",
   "execution_count": 19,
   "metadata": {},
   "outputs": [],
   "source": [
    "train <- clean[train_ind,]\n",
    "test <- clean[-train_ind,]"
   ]
  },
  {
   "cell_type": "code",
   "execution_count": 20,
   "metadata": {},
   "outputs": [
    {
     "name": "stdout",
     "output_type": "stream",
     "text": [
      "     Lat_Num   Lon_Num Sqft_Num Score_Num Rent_Num Zip_Fac Beds_Num Baths_Num\n",
      "41  40.12516 -88.29663     5092  57.33269      675   61822       16         4\n",
      "129 40.10479 -88.25331        1  57.72904     1150   61820       49         1\n",
      "52  40.12754 -88.28770     4786  56.75846      560   61821       16         4\n",
      "136 40.10519 -88.23863        1  48.61798      540   61820       16         1\n",
      "140 40.10733 -88.23738        1  55.95307      850   61820       44        30\n",
      "    Beds_Fac Baths_Fac DateAdded_Str State_Fac Tract_Fac Block_Fac   Date_Fac\n",
      "41         1         1    06-13-2017        17    000902      1090 06-13-2017\n",
      "129        4         -    06-13-2017        17    000500      2008 06-13-2017\n",
      "52         1         1    06-13-2017        17    000902      2023 06-13-2017\n",
      "136        1         -    06-13-2017        17    000402      2006 06-13-2017\n",
      "140        3         2    06-13-2017        17    000402      2002 06-13-2017\n",
      "    Sqft0500 Sqft500600 Sqft600700 Sqft700800 Sqft800900 Sqft9001000\n",
      "41     FALSE      FALSE      FALSE      FALSE      FALSE       FALSE\n",
      "129     TRUE      FALSE      FALSE      FALSE      FALSE       FALSE\n",
      "52     FALSE      FALSE      FALSE      FALSE      FALSE       FALSE\n",
      "136     TRUE      FALSE      FALSE      FALSE      FALSE       FALSE\n",
      "140     TRUE      FALSE      FALSE      FALSE      FALSE       FALSE\n",
      "    Sqft10001100 Sqft11001200 Sqft12001300 Sqft13001400 Sqft14001500\n",
      "41         FALSE        FALSE        FALSE        FALSE        FALSE\n",
      "129        FALSE        FALSE        FALSE        FALSE        FALSE\n",
      "52         FALSE        FALSE        FALSE        FALSE        FALSE\n",
      "136        FALSE        FALSE        FALSE        FALSE        FALSE\n",
      "140        FALSE        FALSE        FALSE        FALSE        FALSE\n",
      "    Sqft15001600 Sqft16001700 Sqft17001800 Sqft18001900 Sqft19002000 Sqft2000\n",
      "41         FALSE        FALSE        FALSE        FALSE        FALSE     TRUE\n",
      "129        FALSE        FALSE        FALSE        FALSE        FALSE    FALSE\n",
      "52         FALSE        FALSE        FALSE        FALSE        FALSE     TRUE\n",
      "136        FALSE        FALSE        FALSE        FALSE        FALSE    FALSE\n",
      "140        FALSE        FALSE        FALSE        FALSE        FALSE    FALSE\n",
      "    Sqft20002100 Sqft21002200 Sqft22002300 Sqft23002400 Sqft24002500\n",
      "41         FALSE        FALSE        FALSE        FALSE        FALSE\n",
      "129        FALSE        FALSE        FALSE        FALSE        FALSE\n",
      "52         FALSE        FALSE        FALSE        FALSE        FALSE\n",
      "136        FALSE        FALSE        FALSE        FALSE        FALSE\n",
      "140        FALSE        FALSE        FALSE        FALSE        FALSE\n",
      "    Sqft25002600 Sqft26002700 Sqft27002800 Sqft28002900 Sqft29003000 Sqft3000\n",
      "41         FALSE        FALSE        FALSE        FALSE        FALSE     TRUE\n",
      "129        FALSE        FALSE        FALSE        FALSE        FALSE    FALSE\n",
      "52         FALSE        FALSE        FALSE        FALSE        FALSE     TRUE\n",
      "136        FALSE        FALSE        FALSE        FALSE        FALSE    FALSE\n",
      "140        FALSE        FALSE        FALSE        FALSE        FALSE    FALSE\n",
      "    Sqft01000 Location_GeoJSON.type Location_GeoJSON.coordinates\n",
      "41      FALSE                 Point          -88.29663, 40.12516\n",
      "129      TRUE                 Point          -88.25331, 40.10479\n",
      "52      FALSE                 Point          -88.28770, 40.12754\n",
      "136      TRUE                 Point          -88.23863, 40.10519\n",
      "140      TRUE                 Point          -88.23738, 40.10733\n"
     ]
    }
   ],
   "source": [
    "## Print first 5 rows of the train data.\n",
    "print(train[1:5,])"
   ]
  },
  {
   "cell_type": "markdown",
   "metadata": {},
   "source": [
    "We are using XGBoost in this example. XGBoost is an optimized distributed gradient boosting library designed to be highly efficient, flexible and portable. \n",
    "Before we start training our model, first we need to translate categorical variables into numeric values. (because XGBoost doesn't take categorical variables)"
   ]
  },
  {
   "cell_type": "code",
   "execution_count": 21,
   "metadata": {},
   "outputs": [],
   "source": [
    "# Import library\n",
    "library(xgboost)"
   ]
  },
  {
   "cell_type": "code",
   "execution_count": 22,
   "metadata": {},
   "outputs": [],
   "source": [
    "# Get rid of Location_GeoJSON because we don't need them\n",
    "train_no_json = train[,!names(train) %in% c(\"Location_GeoJSON\")]\n",
    "test_no_json = test[,!names(test) %in% c(\"Location_GeoJSON\")]\n",
    "\n",
    "# Change type of DateAdded_Str to Date\n",
    "train_no_json$DateAdded_Str <- as.Date(train_no_json$DateAdded_Str, format = \"%m-%d-%Y\")\n",
    "test_no_json$DateAdded_Str <- as.Date(test_no_json$DateAdded_Str, format = \"%m-%d-%Y\")\n",
    "\n",
    "# From columns 14 to 42, if the value is true then change it to 1, otherwise 0\n",
    "train_no_json[, 14:42] <- as.integer(train_no_json[, 14:42] == \"TRUE\")\n",
    "test_no_json[, 14:42] <- as.integer(test_no_json[, 14:42] == \"TRUE\")\n",
    "\n",
    "# Store the rent we are going to predict and delete it from the train data set\n",
    "output_vector = train_no_json[,\"Rent_Num\"]\n",
    "train_no_json = train_no_json[,!names(train_no_json) %in% c(\"Rent_Num\")]\n",
    "\n",
    "# Store the rent we are going to predict and delete it from the test data set\n",
    "true_vector = test_no_json[, \"Rent_Num\"]\n",
    "test_no_json = test_no_json[,!names(test_no_json) %in% c(\"Rent_Num\")]"
   ]
  },
  {
   "cell_type": "code",
   "execution_count": 23,
   "metadata": {},
   "outputs": [],
   "source": [
    "# Change to matrix because XGBoost takes matrices\n",
    "train_numeric <- data.matrix(train_no_json)\n",
    "test_numeric <- data.matrix(test_no_json)\n",
    "\n",
    "dtrain <- xgb.DMatrix(data = train_numeric, label = output_vector)\n",
    "dtest <- xgb.DMatrix(data = test_numeric, label = true_vector)\n",
    "\n",
    "# We can see the rmse of train and test via using watchlist parameter \n",
    "watchlist <- list(train = dtrain, test = dtest)"
   ]
  },
  {
   "cell_type": "markdown",
   "metadata": {},
   "source": [
    "Now we only need to put correct parameters into the model and train it. \n",
    "From the output you can see the rmse decrease after each round of training"
   ]
  },
  {
   "cell_type": "code",
   "execution_count": 24,
   "metadata": {},
   "outputs": [
    {
     "name": "stdout",
     "output_type": "stream",
     "text": [
      "[1]\ttrain-rmse:806.593811\ttest-rmse:776.394531 \n",
      "[11]\ttrain-rmse:388.661407\ttest-rmse:364.412109 \n",
      "[21]\ttrain-rmse:221.509155\ttest-rmse:247.851868 \n",
      "[31]\ttrain-rmse:152.884186\ttest-rmse:204.970291 \n",
      "[41]\ttrain-rmse:108.237511\ttest-rmse:197.752731 \n",
      "[50]\ttrain-rmse:85.646523\ttest-rmse:194.536774 \n"
     ]
    }
   ],
   "source": [
    "# data: training data\n",
    "# max.depth: maximum depth of the tree\n",
    "# eta: step size\n",
    "# gamma: minimum loss reduction\n",
    "# subsample: subsample ratio of the training instance\n",
    "# nround: number of rounds\n",
    "# watchlist: watchlist\n",
    "# objective: regression or classification\n",
    "model <- xgb.train(data = dtrain,\n",
    "                   max.depth = 300, \n",
    "                   eta = 0.1, \n",
    "                   gamma = 0.01,\n",
    "                   subsample = 0.5,\n",
    "                   nround = 50,\n",
    "                   watchlist = watchlist, \n",
    "                   print_every_n = 10,\n",
    "                   objective = \"reg:linear\")"
   ]
  },
  {
   "cell_type": "markdown",
   "metadata": {},
   "source": [
    "You can play around with the parameters. The list of all available parameters are in here: https://xgboost.readthedocs.io/en/latest/parameter.html"
   ]
  },
  {
   "cell_type": "code",
   "execution_count": 25,
   "metadata": {},
   "outputs": [
    {
     "name": "stdout",
     "output_type": "stream",
     "text": [
      "         Feature         Gain       Cover   Frequency\n",
      " 1:      Lat_Num 0.2312742876 0.230731286 0.355882353\n",
      " 2:     Beds_Num 0.1965108017 0.131582193 0.095588235\n",
      " 3:    Score_Num 0.1667126677 0.165001850 0.164705882\n",
      " 4:    Baths_Num 0.1382307283 0.083117524 0.048529412\n",
      " 5:      Lon_Num 0.1370149994 0.237760513 0.192647059\n",
      " 6:    Tract_Fac 0.0642299278 0.055617215 0.042647059\n",
      " 7:      Zip_Fac 0.0383429974 0.035886053 0.020588235\n",
      " 8:     Sqft_Num 0.0261702322 0.048834628 0.069117647\n",
      " 9: Sqft11001200 0.0011114957 0.006042669 0.002941176\n",
      "10:  Sqft9001000 0.0002808017 0.002466395 0.005882353\n",
      "11:   Sqft600700 0.0001210606 0.002959674 0.001470588\n"
     ]
    }
   ],
   "source": [
    "# xgb.importance is a function that calculates the importance of each variable\n",
    "importance_matrix <- xgb.importance(feature_names = colnames(train_numeric), model = model)\n",
    "print(importance_matrix)"
   ]
  },
  {
   "cell_type": "code",
   "execution_count": 26,
   "metadata": {},
   "outputs": [],
   "source": [
    "# Now we can start predicting the testing set and visualize the result.\n",
    "model$pred <- predict(model, test_numeric)\n",
    "test$res <- test$Rent_Num - model$pred"
   ]
  },
  {
   "cell_type": "code",
   "execution_count": 27,
   "metadata": {},
   "outputs": [
    {
     "name": "stderr",
     "output_type": "stream",
     "text": [
      "`geom_smooth()` using method = 'loess'\n"
     ]
    },
    {
     "data": {},
     "metadata": {},
     "output_type": "display_data"
    },
    {
     "data": {
      "image/png": "[encoded data removed]",
      "text/plain": [
       "plot without title"
      ]
     },
     "metadata": {},
     "output_type": "display_data"
    }
   ],
   "source": [
    "# visualize\n",
    "library(ggplot2)\n",
    "name <- \"xgboost\"\n",
    "ggplot() + ggtitle(paste(name,\".png\",sep=\"\")) +\n",
    "      labs(x=\"Rent\", y=\"Residuals\") +\n",
    "      geom_point(aes(test$Rent_Num, test$res),\n",
    "                 colour='blue', fill = \"blue\") +\n",
    "      geom_smooth(aes(test$Rent_Num, test$res), se=TRUE, fullrange=FALSE,\n",
    "                  colour='firebrick1', fill = \"firebrick1\")"
   ]
  },
  {
   "cell_type": "markdown",
   "metadata": {
    "collapsed": true
   },
   "source": [
    "## Question:\n",
    "Try to tune the model's parameters. If you increase the eta or the maximum depth, what will happen? Can you explain your reasoning? Are there other ways to improve the model's performance?"
   ]
  },
  {
   "cell_type": "code",
   "execution_count": 31,
   "metadata": {},
   "outputs": [
    {
     "name": "stdout",
     "output_type": "stream",
     "text": [
      "[1]\ttrain-rmse:814.026123\ttest-rmse:788.593262 \n",
      "[11]\ttrain-rmse:383.192383\ttest-rmse:369.723114 \n",
      "[21]\ttrain-rmse:206.492615\ttest-rmse:227.289581 \n",
      "[31]\ttrain-rmse:136.222672\ttest-rmse:195.300873 \n",
      "[41]\ttrain-rmse:90.560486\ttest-rmse:184.733307 \n",
      "[50]\ttrain-rmse:67.086845\ttest-rmse:179.761627 \n"
     ]
    }
   ],
   "source": [
    "model <- xgb.train(data = dtrain,\n",
    "                   max.depth = 1000, \n",
    "                   eta = 0.1, \n",
    "                   gamma = 0.01,\n",
    "                   subsample = 0.5,\n",
    "                   nround = 50,\n",
    "                   watchlist = watchlist, \n",
    "                   print_every_n = 10,\n",
    "                   objective = \"reg:linear\")\n"
   ]
  },
  {
   "cell_type": "code",
   "execution_count": 32,
   "metadata": {},
   "outputs": [
    {
     "name": "stdout",
     "output_type": "stream",
     "text": [
      "        Feature         Gain        Cover   Frequency\n",
      " 1:     Lat_Num 0.2371851705 0.1160379882 0.143779343\n",
      " 2:     Lon_Num 0.2028283706 0.5868111289 0.656103286\n",
      " 3:    Beds_Num 0.1624755887 0.0636035313 0.035211268\n",
      " 4:   Baths_Num 0.1462776581 0.0589218834 0.027582160\n",
      " 5:   Score_Num 0.1396657251 0.0902889246 0.069248826\n",
      " 6:    Sqft_Num 0.0397419719 0.0321027287 0.031103286\n",
      " 7:   Tract_Fac 0.0385849363 0.0255484216 0.021713615\n",
      " 8:     Zip_Fac 0.0327127300 0.0230069556 0.009976526\n",
      " 9: Sqft9001000 0.0003489707 0.0028089888 0.004107981\n",
      "10:  Sqft700800 0.0001788781 0.0008694489 0.001173709\n"
     ]
    }
   ],
   "source": [
    "importance_matrix <- xgb.importance(feature_names = colnames(train_numeric), model = model)\n",
    "print(importance_matrix)"
   ]
  },
  {
   "cell_type": "code",
   "execution_count": 34,
   "metadata": {},
   "outputs": [
    {
     "ename": "ERROR",
     "evalue": "Error in parse(text = x, srcfile = src): <text>:1:12: unexpected symbol\n1: Increasing the\n               ^\n",
     "output_type": "error",
     "traceback": [
      "Error in parse(text = x, srcfile = src): <text>:1:12: unexpected symbol\n1: Increasing the\n               ^\nTraceback:\n"
     ]
    }
   ],
   "source": [
    "Increasing the max.depth from 300 to 100 can reduce the test-rmse as it allows more complex functional forms. \n",
    "From:\n",
    "[1]\ttrain-rmse:806.593811\ttest-rmse:776.394531 \n",
    "[11]\ttrain-rmse:388.661407\ttest-rmse:364.412109 \n",
    "[21]\ttrain-rmse:221.509155\ttest-rmse:247.851868 \n",
    "[31]\ttrain-rmse:152.884186\ttest-rmse:204.970291 \n",
    "[41]\ttrain-rmse:108.237511\ttest-rmse:197.752731 \n",
    "[50]\ttrain-rmse:85.646523\ttest-rmse:194.536774 \n",
    "to:\n",
    "[1]\ttrain-rmse:814.026123\ttest-rmse:788.593262 \n",
    "[11]\ttrain-rmse:383.192383\ttest-rmse:369.723114 \n",
    "[21]\ttrain-rmse:206.492615\ttest-rmse:227.289581 \n",
    "[31]\ttrain-rmse:136.222672\ttest-rmse:195.300873 \n",
    "[41]\ttrain-rmse:90.560486\ttest-rmse:184.733307 \n",
    "[50]\ttrain-rmse:67.086845\ttest-rmse:179.761627 \n",
    "\n",
    "K-folds cross validation should improve the test rmse further as over-fitting is avoided."
   ]
  },
  {
   "cell_type": "code",
   "execution_count": null,
   "metadata": {},
   "outputs": [],
   "source": []
  }
 ],
 "metadata": {
  "kernelspec": {
   "display_name": "R",
   "language": "R",
   "name": "ir"
  },
  "language_info": {
   "codemirror_mode": "r",
   "file_extension": ".r",
   "mimetype": "text/x-r-source",
   "name": "R",
   "pygments_lexer": "r",
   "version": "3.4.4"
  }
 },
 "nbformat": 4,
 "nbformat_minor": 2
}

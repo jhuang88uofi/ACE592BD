{
 "cells": [
  {
   "cell_type": "code",
   "execution_count": 1,
   "metadata": {},
   "outputs": [],
   "source": [
    "'''\n",
    "https://www.immobiliare.it/Roma/agenzie_immobiliari_provincia-Roma.html \n",
    "Go to this website and grab/scrape 5 different fields and save them to a .txt file. \n",
    "This will help you identify how different objects on a webpage require different steps to grab them in their entirety.\n",
    "'''\n",
    "import requests\n",
    "import re\n",
    "from bs4 import BeautifulSoup\n",
    "\n",
    "page = requests.get(\"https://www.immobiliare.it/Roma/agenzie_immobiliari_provincia-Roma.html\")\n",
    "soup = BeautifulSoup(page.content, 'html.parser')"
   ]
  },
  {
   "cell_type": "code",
   "execution_count": 2,
   "metadata": {},
   "outputs": [],
   "source": [
    "data=[[Data0.find('a',attrs={'data-row-link':''}).text, #Name\n",
    "       Data0.find('a',attrs={'data-row-link':''}).get('href'), #Link\n",
    "       ' '.join(Data0.find('div',attrs={'class':'block__data'}).find('p').text.split()), #Address\n",
    "       Data0.find('span',attrs={'class':\"btn btn-white info-agenzia hidden js-clickable\"}).text, #Tel\n",
    "       Data0.find('div',attrs={'class':'descrizione--agenzia'}) if Data0.find('div',attrs={'class':'descrizione--agenzia'}) is None \n",
    "       else ' '.join(Data0.find('div',attrs={'class':'descrizione--agenzia'}).text.split()) #Description\n",
    "      ]  \n",
    "      for Data0 in soup.find_all('li',attrs={'data-id':re.compile('.')})]"
   ]
  },
  {
   "cell_type": "code",
   "execution_count": 3,
   "metadata": {},
   "outputs": [
    {
     "name": "stdout",
     "output_type": "stream",
     "text": [
      "['TFT Building Management', 'https://www.immobiliare.it/agenzie-immobiliari/79365/tft-building/', 'Viale Parioli 37/A 00197 - Roma', '06 3297 036', \"La TFT Building Management S.r.l. svolge attivita' di intermediazione immobiliare da venticinque anni ed ha il proprio focus su immobili di grande prestigio, sia sul mercato nazionale che su quello internazionale. La societa' viene costituita a Roma...\"]\n",
      "['Fagnani', 'https://www.immobiliare.it/agenzie-immobiliari/28834/fagnani/', 'Via Menotti Garibaldi 14 00049 - Velletri', '06 9614 2506', \"Fagnani è un Immobiliare dall’altissima affidabilità, è attiva da più di 24 anni sul mercato offrendo la sua capacità di lavorare al passo con le normative. L' Immobiliare Fagnani beneficia di un metodo di lavoro comprovato e solido, mirato a...\"]\n",
      "['MASCI IMMOBILI', 'https://www.immobiliare.it/agenzie-immobiliari/178365/masci-fiano/', 'Piazzale Cairoli 26 00065 - Fiano Romano', '0765 480 973', \"L'Agenzia MASCI IMMOBILI opera da oltre venti anni in tutta l'area Roma nord e Rieti e provincia , e' in grado di offrire consulenza per tutto ciò che riguarda la compravendita e la locazione di immobili residenziali, commerciali ed industriali. Tro...\"]\n",
      "['Dominvest', 'https://www.immobiliare.it/agenzie-immobiliari/105434/dominvest/', 'via Ludovisi 45 00187 - Roma', '06 4201 0800', None]\n",
      "['Rezza Spa - Immobili di Prestigio', 'https://www.immobiliare.it/agenzie-immobiliari/132706/rezza-immobili-di-prestigio/', 'piazza di spagna 60/a 00187 - Roma', '06 697 710', None]\n",
      "['Angelini Property  - La tua family agency', 'https://www.immobiliare.it/agenzie-immobiliari/182236/angelini-property/', 'Via Gallia 36 00183 - Roma', '06 6441 0139', \"[Valuta GRATIS la Tua casa] Ora puoi direttamente dal tuo PC o SMARTPHONE. E' semplice, inserisci la “VIA” e il “CAP” della tua casa sul nostro Sito web☝️⤴️ Siamo consapevoli di quanto sia delicata per ogni famiglia la vendita della propria casa e d...\"]\n",
      "['GUIDONIA : Consulenza Immobiliare Via Roma, 59', 'https://www.immobiliare.it/agenzie-immobiliari/208308/la-consulenza-guidonia-montecelio/', 'Viale Roma 59 00012 - Guidonia Montecelio', '0774 346 881', None]\n",
      "['Frimm Mas Service S.R.L.', 'https://www.immobiliare.it/agenzie-immobiliari/119709/frimm-mas-service/', 'Viale della Grande Muraglia 144 00144 - Roma', '06 5204 273', None]\n",
      "['FRIMM IMM. P. DI ROMA S.R.L.S', 'https://www.immobiliare.it/agenzie-immobiliari/104082/servizi-bufalotta/', 'Via Corrado Mantoni 5 00139 - Roma', '06 8720 0037', \"Da oltre 12 anni nel TUO QUARTIERE…cambiamo nome ma rimaniamo gli stessi! DOPO OLTRE 20 ANNI DI ESPERIENZA E SUCCESSI CON UN NOTO FRANCHISING, ABBIAMO DECISO CHE FOSSE IL MOMENTO DI CONTARE SOLO SULLA NOSTRA PROFESSIONALITA'! Frimm Porta di Roma, p...\"]\n",
      "['Imparato Case', 'https://www.immobiliare.it/agenzie-immobiliari/205179/imparato-case/', 'Circonvallazione ostiense 65 00154 - Roma', '06 4559 7310', 'Curare la compravendita di un immobile richiede competenza e passione ed è con questi ideali che la Imparato Case segue la propria clientela con un continuo aggiornamento e confronto. Semplicità, chiarezza, tecnici presenti in sede ed un team affida...']\n",
      "['Bonifazi immobiliare Frascati', 'https://www.immobiliare.it/agenzie-immobiliari/216278/bonifazi-frascati/', 'via di vermicino 541 00044 - Frascati', '06 3789 7501', \"Il gruppo Bonifazi servizi immobiliari nasce, per l'intraprendenza del suo presidente, nell'anno 1995, con l'apertura del primo punto vendita nella città di Terni, oggi diventata sede della Direzione Generale. Lo sviluppo della rete, iniziata nella...\"]\n",
      "['Affiliato Frimm 1271 - RIVINCITA175 S.r.l', 'https://www.immobiliare.it/agenzie-immobiliari/97342/affiliato-frimm-roma/', 'Via Baldo degli Ubaldi 175 00167 - Roma', '06 6601 7704', \"Frimm nasce nell’anno 2000. Il suo nome deriva dall'unione dei termini “Franchising” e “Immobiliare”, ovvero il core-business dell’azienda che in pochi anni è cresciuta e si è sviluppata fino a divenire uno dei principali Gruppi operanti nel mercato...\"]\n",
      "['LUXURY HOME servizi immobiliari', 'https://www.immobiliare.it/agenzie-immobiliari/151486/luxury-home-roma/', 'via Santa Croce in Gerusalemme 8/8a 00185 - Roma', '06 8786 0704', 'La Luxury Home servizi immobiliari, vuole diventare un punto di riferimento forte ed affidabile,tramite una consolidata esperienza nelle trattative immobiliari di ogni genere e alla cura destinata alla propria clientela. Tutto questo sarà possibile a...']\n",
      "['Immobiliare RN s.r.l.', 'https://www.immobiliare.it/agenzie-immobiliari/53513/rn-roma/', 'Piazza Sergio Corazzini 3 00137 - Roma', '06 8200 2481', 'Fondata a Roma da esperti provenienti dalle maggiori aziende del settore immobiliare, Immobiliare RN s.r.l. è una realtà dinamica e giovane, che opera principalmente nella zona di Roma Talenti-Montesacro dove si trova la prima e storica sede della so...']\n",
      "['Vecchioni immobiliare', 'https://www.immobiliare.it/agenzie-immobiliari/144765/vecchioni/', 'via Ottavilla 7 00152 - Roma', '06 5818 300', 'Vecchioniimmobiliare La Vecchioniimmobiliare utilizza la fiducia quale \"arma vincente\".Vendere o lacare un appartamento ,un locale commerciale vuol dire selezionare un lavoro di ricerca di alta qualita\\'.Affidarsi alla Vecchioniimmobiliare , v...']\n",
      "['Rezza Spa', 'https://www.immobiliare.it/agenzie-immobiliari/100278/rezza-roma-piazza-di-spagna/', 'Piazza di Spagna 32 00187 - Roma', '06 474 951', None]\n",
      "['STUDIO MOLINARO REAL ESTATE', 'https://www.immobiliare.it/agenzie-immobiliari/48910/studio-molinaro-real-estate/', 'Via del Babuino 155 00187 - Roma', '06 3265 0246', 'CHI SIAMO Lo Studio Molinaro Real Estate nasce da professionisti del settore, che dopo aver lavorato a lungo in famosi marchi in franchising, hanno capito che il mondo dell’immobiliare deve essere assolutamente rinnovato, attraverso una gestione gio...']\n",
      "['Roma-Immobiliare.it', 'https://www.immobiliare.it/agenzie-immobiliari/26978/roma-immobiliare/', 'via di bravetta 190 00164 - Roma', '06 6663 738', 'La Roma – Immobiliare. it è uno studio Immobiliare fondato da me, Alessandro Ricci*, che dopo venti anni di attività svolta come agente immobiliare prima, e titolare successivamente in agenzie di franchising, ha cercato di dare unicità alla propria...']\n",
      "['Solari Immobiliare dal 1989', 'https://www.immobiliare.it/agenzie-immobiliari/39698/frimm-roma-solari/', 'Circonvallazione Cornelia 64/64a 00165 - Roma', '06 6627 881', None]\n",
      "['Gabetti - Agenzia Prati - Borgo Pio', 'https://www.immobiliare.it/agenzie-immobiliari/7879/gabetti-roma-prati/', 'Via Fabio Massimo 44 00192 - Roma', '06 3600 2791', None]\n",
      "['Rezza Spa', 'https://www.immobiliare.it/agenzie-immobiliari/239774/rezza-spa/', 'piazza di spagna 60 00187 - Roma', '06 697 710', None]\n",
      "['Rezza Spa', 'https://www.immobiliare.it/agenzie-immobiliari/239776/rezza-spa/', 'piazza di spagna 60 00187 - Roma', '06 697 710', None]\n",
      "['Luffarelli Aste Immobiliari', 'https://www.immobiliare.it/agenzie-immobiliari/116110/luffarelli/', 'VIALE G. OBERDAN 22 00049 - Velletri', '06 9643 0515', \"La Luffarelli Aste Immobiliari è una società di consulenza che fornisce assistenza legale a chiunque desideri acquistare un immobile in asta. L'attività svolta è finalizzata a seguire e tutelare il cliente per l'intero iter procedurale, dalla ricerca...\"]\n",
      "['Aste&Investimenti;', 'https://www.immobiliare.it/agenzie-immobiliari/210030/aste-e-investimenti-roma/', 'Piazzale delle belle arti 8 00196 - Roma', '06 4006 0137', 'siamo un gruppo di professionisti che opera nel mercato immobiliare da oltre 20 anni raggiungendo risultati straordinari e tangibili per i nostri clienti. il focus viene costantemente posto sulle seguenti tematiche: Professionalità Attenta due dil...']\n",
      "['Studio Giuliani Real Estate - CONSULENZA GRATUITA', 'https://www.immobiliare.it/agenzie-immobiliari/233371/studio-giuliani-nettuno/', 'Via Eduardo de Filippo 2/b 00049 - Velletri', '06 8760 7612', 'Casa è dove si trova il cuore. (“Plinio il vecchio”) Con lo STUDIO GIULIANI REAL ESTATE il sogno diventa realtà! Il nostro team di professionisti offre assistenza, consulenza legale e stragiudiziale per tutti gli immobili in asta giudiziaria e li...']\n",
      "['STUDIO LEGALE & IMMOBILIARE LEONES', 'https://www.immobiliare.it/agenzie-immobiliari/156874/studio-immobiliare-leones/', 'Via Castelli Romani 22/b 00071 - Pomezia', '06 8697 9884', 'Giorno per giorno, il nostro lavoro è quello di realizzare i vostri desideri, prima ancora che li abbiate espressi, e fare in modo che rimangano con voi per sempre. • ACQUISIZIONI TRAMITE ASTE GIUDIZIARIA, LICITAZIONE PRIVATE, ACQUISTO CREDITI Il...']\n",
      "['Rigamonti Real Estate srl', 'https://www.immobiliare.it/agenzie-immobiliari/113914/rigamonti-real-estate/', 'Via Antonio Bertoloni 26 00197 - Roma', '06 8535 6260', 'La Rigamonti Real Estate è un’esclusiva e consolidata realtà rivolta ad un elevato target del mercato immobiliare quale Advisory, Property, Facility e Project Management nei settori alberghiero, industriale, direzionale, commerciale, residenziale, sv...']\n",
      "['Bovi RE ', 'https://www.immobiliare.it/agenzie-immobiliari/111386/bovi-re-roma/', 'Piazza Cavour 25 00193 - Roma', '06 8396 4019', \"Bovi RE, è una società leader nel settore dell'intermediazione immobiliare, rivolta alla compravendita, locazione, valutazione e valorizzazione di immobili e patrimoni immobiliari ad uso residenziale e commerciale. Con più di vent’anni di esperienz...\"]\n",
      "[\"Italy Sotheby's International Realty\", 'https://www.immobiliare.it/agenzie-immobiliari/62630/rome-sotheby-s-international/', 'P.zza S.S. Apostoli 81 00187 - Roma', '06 7925 8888', \"Italy Sotheby's International Realty offre il miglior servizio e la più ampia esposizione internazionale per chi desidera acquistare e vendere un immobile in Italia. Il nostro team ha una profonda conoscenza del mercato immobiliare italiano e offre u...\"]\n",
      "['Coldwell Banker Exclusive RE ', 'https://www.immobiliare.it/agenzie-immobiliari/197869/coldwell-banker-exclusive/', 'Viale Bruno Buozzi 82 00197 - Roma', '06 3218 355', 'COLDWELL BANKER EXCLUSIVE RE - V.le Bruno Buozzi, 82 - C.so Vittorio Emanuele II, 277-285 TEL.063218355 Il marchio Coldwell Banker nasce nel 1906 negli Stati Uniti, a San Francisco, fondato da Colbert Coldwell e Benjamin Arthur Banker. Ad oggi, dopo...']\n"
     ]
    }
   ],
   "source": [
    "for entry in data:\n",
    "    print(entry)"
   ]
  },
  {
   "cell_type": "code",
   "execution_count": 4,
   "metadata": {},
   "outputs": [
    {
     "name": "stdout",
     "output_type": "stream",
     "text": [
      "TFT Building Management, https://www.immobiliare.it/agenzie-immobiliari/79365/tft-building/, Viale Parioli 37/A 00197 - Roma, 06 3297 036, La TFT Building Management S.r.l. svolge attivita di intermediazione immobiliare da venticinque anni ed ha il proprio focus su immobili di grande prestigio, sia sul mercato nazionale che su quello internazionale. La societa viene costituita a Roma...\n",
      "Fagnani, https://www.immobiliare.it/agenzie-immobiliari/28834/fagnani/, Via Menotti Garibaldi 14 00049 - Velletri, 06 9614 2506, Fagnani è un Immobiliare dall’altissima affidabilità, è attiva da più di 24 anni sul mercato offrendo la sua capacità di lavorare al passo con le normative. L Immobiliare Fagnani beneficia di un metodo di lavoro comprovato e solido, mirato a...\n",
      "MASCI IMMOBILI, https://www.immobiliare.it/agenzie-immobiliari/178365/masci-fiano/, Piazzale Cairoli 26 00065 - Fiano Romano, 0765 480 973, LAgenzia MASCI IMMOBILI opera da oltre venti anni in tutta larea Roma nord e Rieti e provincia , e in grado di offrire consulenza per tutto ciò che riguarda la compravendita e la locazione di immobili residenziali, commerciali ed industriali. Tro...\n",
      "Dominvest, https://www.immobiliare.it/agenzie-immobiliari/105434/dominvest/, via Ludovisi 45 00187 - Roma, 06 4201 0800, None\n",
      "Rezza Spa - Immobili di Prestigio, https://www.immobiliare.it/agenzie-immobiliari/132706/rezza-immobili-di-prestigio/, piazza di spagna 60/a 00187 - Roma, 06 697 710, None\n",
      "Angelini Property  - La tua family agency, https://www.immobiliare.it/agenzie-immobiliari/182236/angelini-property/, Via Gallia 36 00183 - Roma, 06 6441 0139, Valuta GRATIS la Tua casa Ora puoi direttamente dal tuo PC o SMARTPHONE. E semplice, inserisci la “VIA” e il “CAP” della tua casa sul nostro Sito web☝️⤴️ Siamo consapevoli di quanto sia delicata per ogni famiglia la vendita della propria casa e d...\n",
      "GUIDONIA : Consulenza Immobiliare Via Roma, 59, https://www.immobiliare.it/agenzie-immobiliari/208308/la-consulenza-guidonia-montecelio/, Viale Roma 59 00012 - Guidonia Montecelio, 0774 346 881, None\n",
      "Frimm Mas Service S.R.L., https://www.immobiliare.it/agenzie-immobiliari/119709/frimm-mas-service/, Viale della Grande Muraglia 144 00144 - Roma, 06 5204 273, None\n",
      "FRIMM IMM. P. DI ROMA S.R.L.S, https://www.immobiliare.it/agenzie-immobiliari/104082/servizi-bufalotta/, Via Corrado Mantoni 5 00139 - Roma, 06 8720 0037, Da oltre 12 anni nel TUO QUARTIERE…cambiamo nome ma rimaniamo gli stessi! DOPO OLTRE 20 ANNI DI ESPERIENZA E SUCCESSI CON UN NOTO FRANCHISING, ABBIAMO DECISO CHE FOSSE IL MOMENTO DI CONTARE SOLO SULLA NOSTRA PROFESSIONALITA! Frimm Porta di Roma, p...\n",
      "Imparato Case, https://www.immobiliare.it/agenzie-immobiliari/205179/imparato-case/, Circonvallazione ostiense 65 00154 - Roma, 06 4559 7310, Curare la compravendita di un immobile richiede competenza e passione ed è con questi ideali che la Imparato Case segue la propria clientela con un continuo aggiornamento e confronto. Semplicità, chiarezza, tecnici presenti in sede ed un team affida...\n",
      "Bonifazi immobiliare Frascati, https://www.immobiliare.it/agenzie-immobiliari/216278/bonifazi-frascati/, via di vermicino 541 00044 - Frascati, 06 3789 7501, Il gruppo Bonifazi servizi immobiliari nasce, per lintraprendenza del suo presidente, nellanno 1995, con lapertura del primo punto vendita nella città di Terni, oggi diventata sede della Direzione Generale. Lo sviluppo della rete, iniziata nella...\n",
      "Affiliato Frimm 1271 - RIVINCITA175 S.r.l, https://www.immobiliare.it/agenzie-immobiliari/97342/affiliato-frimm-roma/, Via Baldo degli Ubaldi 175 00167 - Roma, 06 6601 7704, Frimm nasce nell’anno 2000. Il suo nome deriva dallunione dei termini “Franchising” e “Immobiliare”, ovvero il core-business dell’azienda che in pochi anni è cresciuta e si è sviluppata fino a divenire uno dei principali Gruppi operanti nel mercato...\n",
      "LUXURY HOME servizi immobiliari, https://www.immobiliare.it/agenzie-immobiliari/151486/luxury-home-roma/, via Santa Croce in Gerusalemme 8/8a 00185 - Roma, 06 8786 0704, La Luxury Home servizi immobiliari, vuole diventare un punto di riferimento forte ed affidabile,tramite una consolidata esperienza nelle trattative immobiliari di ogni genere e alla cura destinata alla propria clientela. Tutto questo sarà possibile a...\n",
      "Immobiliare RN s.r.l., https://www.immobiliare.it/agenzie-immobiliari/53513/rn-roma/, Piazza Sergio Corazzini 3 00137 - Roma, 06 8200 2481, Fondata a Roma da esperti provenienti dalle maggiori aziende del settore immobiliare, Immobiliare RN s.r.l. è una realtà dinamica e giovane, che opera principalmente nella zona di Roma Talenti-Montesacro dove si trova la prima e storica sede della so...\n",
      "Vecchioni immobiliare, https://www.immobiliare.it/agenzie-immobiliari/144765/vecchioni/, via Ottavilla 7 00152 - Roma, 06 5818 300, Vecchioniimmobiliare La Vecchioniimmobiliare utilizza la fiducia quale arma vincente.Vendere o lacare un appartamento ,un locale commerciale vuol dire selezionare un lavoro di ricerca di alta qualita\\.Affidarsi alla Vecchioniimmobiliare , v...\n",
      "Rezza Spa, https://www.immobiliare.it/agenzie-immobiliari/100278/rezza-roma-piazza-di-spagna/, Piazza di Spagna 32 00187 - Roma, 06 474 951, None\n",
      "STUDIO MOLINARO REAL ESTATE, https://www.immobiliare.it/agenzie-immobiliari/48910/studio-molinaro-real-estate/, Via del Babuino 155 00187 - Roma, 06 3265 0246, CHI SIAMO Lo Studio Molinaro Real Estate nasce da professionisti del settore, che dopo aver lavorato a lungo in famosi marchi in franchising, hanno capito che il mondo dell’immobiliare deve essere assolutamente rinnovato, attraverso una gestione gio...\n",
      "Roma-Immobiliare.it, https://www.immobiliare.it/agenzie-immobiliari/26978/roma-immobiliare/, via di bravetta 190 00164 - Roma, 06 6663 738, La Roma – Immobiliare. it è uno studio Immobiliare fondato da me, Alessandro Ricci*, che dopo venti anni di attività svolta come agente immobiliare prima, e titolare successivamente in agenzie di franchising, ha cercato di dare unicità alla propria...\n",
      "Solari Immobiliare dal 1989, https://www.immobiliare.it/agenzie-immobiliari/39698/frimm-roma-solari/, Circonvallazione Cornelia 64/64a 00165 - Roma, 06 6627 881, None\n",
      "Gabetti - Agenzia Prati - Borgo Pio, https://www.immobiliare.it/agenzie-immobiliari/7879/gabetti-roma-prati/, Via Fabio Massimo 44 00192 - Roma, 06 3600 2791, None\n",
      "Rezza Spa, https://www.immobiliare.it/agenzie-immobiliari/239774/rezza-spa/, piazza di spagna 60 00187 - Roma, 06 697 710, None\n",
      "Rezza Spa, https://www.immobiliare.it/agenzie-immobiliari/239776/rezza-spa/, piazza di spagna 60 00187 - Roma, 06 697 710, None\n",
      "Luffarelli Aste Immobiliari, https://www.immobiliare.it/agenzie-immobiliari/116110/luffarelli/, VIALE G. OBERDAN 22 00049 - Velletri, 06 9643 0515, La Luffarelli Aste Immobiliari è una società di consulenza che fornisce assistenza legale a chiunque desideri acquistare un immobile in asta. Lattività svolta è finalizzata a seguire e tutelare il cliente per lintero iter procedurale, dalla ricerca...\n",
      "Aste&Investimenti;, https://www.immobiliare.it/agenzie-immobiliari/210030/aste-e-investimenti-roma/, Piazzale delle belle arti 8 00196 - Roma, 06 4006 0137, siamo un gruppo di professionisti che opera nel mercato immobiliare da oltre 20 anni raggiungendo risultati straordinari e tangibili per i nostri clienti. il focus viene costantemente posto sulle seguenti tematiche: Professionalità Attenta due dil...\n",
      "Studio Giuliani Real Estate - CONSULENZA GRATUITA, https://www.immobiliare.it/agenzie-immobiliari/233371/studio-giuliani-nettuno/, Via Eduardo de Filippo 2/b 00049 - Velletri, 06 8760 7612, Casa è dove si trova il cuore. (“Plinio il vecchio”) Con lo STUDIO GIULIANI REAL ESTATE il sogno diventa realtà! Il nostro team di professionisti offre assistenza, consulenza legale e stragiudiziale per tutti gli immobili in asta giudiziaria e li...\n",
      "STUDIO LEGALE & IMMOBILIARE LEONES, https://www.immobiliare.it/agenzie-immobiliari/156874/studio-immobiliare-leones/, Via Castelli Romani 22/b 00071 - Pomezia, 06 8697 9884, Giorno per giorno, il nostro lavoro è quello di realizzare i vostri desideri, prima ancora che li abbiate espressi, e fare in modo che rimangano con voi per sempre. • ACQUISIZIONI TRAMITE ASTE GIUDIZIARIA, LICITAZIONE PRIVATE, ACQUISTO CREDITI Il...\n",
      "Rigamonti Real Estate srl, https://www.immobiliare.it/agenzie-immobiliari/113914/rigamonti-real-estate/, Via Antonio Bertoloni 26 00197 - Roma, 06 8535 6260, La Rigamonti Real Estate è un’esclusiva e consolidata realtà rivolta ad un elevato target del mercato immobiliare quale Advisory, Property, Facility e Project Management nei settori alberghiero, industriale, direzionale, commerciale, residenziale, sv...\n",
      "Bovi RE , https://www.immobiliare.it/agenzie-immobiliari/111386/bovi-re-roma/, Piazza Cavour 25 00193 - Roma, 06 8396 4019, Bovi RE, è una società leader nel settore dellintermediazione immobiliare, rivolta alla compravendita, locazione, valutazione e valorizzazione di immobili e patrimoni immobiliari ad uso residenziale e commerciale. Con più di vent’anni di esperienz...\n",
      "Italy Sothebys International Realty, https://www.immobiliare.it/agenzie-immobiliari/62630/rome-sotheby-s-international/, P.zza S.S. Apostoli 81 00187 - Roma, 06 7925 8888, Italy Sothebys International Realty offre il miglior servizio e la più ampia esposizione internazionale per chi desidera acquistare e vendere un immobile in Italia. Il nostro team ha una profonda conoscenza del mercato immobiliare italiano e offre u...\n",
      "Coldwell Banker Exclusive RE , https://www.immobiliare.it/agenzie-immobiliari/197869/coldwell-banker-exclusive/, Viale Bruno Buozzi 82 00197 - Roma, 06 3218 355, COLDWELL BANKER EXCLUSIVE RE - V.le Bruno Buozzi, 82 - C.so Vittorio Emanuele II, 277-285 TEL.063218355 Il marchio Coldwell Banker nasce nel 1906 negli Stati Uniti, a San Francisco, fondato da Colbert Coldwell e Benjamin Arthur Banker. Ad oggi, dopo...\n"
     ]
    }
   ],
   "source": [
    "import os\n",
    "txtfile = open(os.path.join(os.path.expanduser('~'), \"outputs/Lab1\", \"lab1_immobiliare.txt\"),\"w\")\n",
    "txtfile.write(\"Name, Link, Address, Tel, Description\"+\"\\n\")\n",
    "\n",
    "for entry in data:\n",
    "    text = str(entry)\n",
    "    text = text.replace(']', '')\n",
    "    text = text.replace('[', '')\n",
    "    text = text.replace(\"'\", '')\n",
    "    text = text.replace('\"', '')\n",
    "    print(text)\n",
    "    txtfile.write(text + \"\\n\")\n",
    "    \n",
    "txtfile.close()"
   ]
  }
 ],
 "metadata": {
  "kernelspec": {
   "display_name": "Python 3",
   "language": "python",
   "name": "python3"
  },
  "language_info": {
   "codemirror_mode": {
    "name": "ipython",
    "version": 3
   },
   "file_extension": ".py",
   "mimetype": "text/x-python",
   "name": "python",
   "nbconvert_exporter": "python",
   "pygments_lexer": "ipython3",
   "version": "3.5.4"
  }
 },
 "nbformat": 4,
 "nbformat_minor": 2
}
